{
  "nbformat": 4,
  "nbformat_minor": 0,
  "metadata": {
    "colab": {
      "provenance": [],
      "authorship_tag": "ABX9TyMml09N5zzwULcrWJXHvWrc",
      "include_colab_link": true
    },
    "kernelspec": {
      "name": "python3",
      "display_name": "Python 3"
    },
    "language_info": {
      "name": "python"
    }
  },
  "cells": [
    {
      "cell_type": "markdown",
      "metadata": {
        "id": "view-in-github",
        "colab_type": "text"
      },
      "source": [
        "<a href=\"https://colab.research.google.com/github/kulvanth5/Applied-Linear-Algebra/blob/main/Eigen_values%26vectors.ipynb\" target=\"_parent\"><img src=\"https://colab.research.google.com/assets/colab-badge.svg\" alt=\"Open In Colab\"/></a>"
      ]
    },
    {
      "cell_type": "code",
      "execution_count": 2,
      "metadata": {
        "colab": {
          "base_uri": "https://localhost:8080/"
        },
        "id": "u37dxu3iVLxQ",
        "outputId": "0751908c-71e5-4c00-c3f7-3e38b1ec57c7"
      },
      "outputs": [
        {
          "name": "stdout",
          "output_type": "stream",
          "text": [
            "Enter the size of the matrix3\n",
            "Enter the rows \n",
            "-2 5 7 0.5 -7 0 1 -1 0\n"
          ]
        },
        {
          "output_type": "execute_result",
          "data": {
            "text/plain": [
              "array([[-2. ,  5. ,  7. ],\n",
              "       [ 0.5, -7. ,  0. ],\n",
              "       [ 1. , -1. ,  0. ]])"
            ]
          },
          "metadata": {},
          "execution_count": 2
        }
      ],
      "source": [
        "import numpy as np\n",
        "from numpy import linalg as la\n",
        "\n",
        "n = int(input('Enter the size of the matrix'))\n",
        "\n",
        "print('Enter the rows ')\n",
        "\n",
        "rows = list(map(float,input().split()))\n",
        "\n",
        "matrix = np.array(rows).reshape(n,n)\n",
        "\n",
        "matrix"
      ]
    },
    {
      "cell_type": "code",
      "source": [
        "eval , ev = la.eig(matrix)\n",
        "\n",
        "eval , ev"
      ],
      "metadata": {
        "colab": {
          "base_uri": "https://localhost:8080/"
        },
        "id": "I0gr0OgxWbC2",
        "outputId": "b9f15592-bb17-41de-da27-bed81c06baad"
      },
      "execution_count": 3,
      "outputs": [
        {
          "output_type": "execute_result",
          "data": {
            "text/plain": [
              "(array([ 1.85085015, -3.22271319, -7.62813696]),\n",
              " array([[-0.88979207, -0.95782492,  0.76944529],\n",
              "        [-0.05026591, -0.12678742, -0.61248211],\n",
              "        [-0.45358948,  0.2578689 , -0.18116185]]))"
            ]
          },
          "metadata": {},
          "execution_count": 3
        }
      ]
    },
    {
      "cell_type": "code",
      "source": [
        "m = int(input('Enter no.of rows'))\n",
        "n = int(input('Enter no.of columns'))\n",
        "\n",
        "print('Enter the rows')\n",
        "\n",
        "rows = list(map(float,input().split()))\n",
        "\n",
        "matrix = np.array(rows).reshape(m,n)\n",
        "\n",
        "matrix"
      ],
      "metadata": {
        "colab": {
          "base_uri": "https://localhost:8080/"
        },
        "id": "doMZu0bDcs1j",
        "outputId": "5df7d953-50d8-470c-eae3-0519716a4f1c"
      },
      "execution_count": 26,
      "outputs": [
        {
          "name": "stdout",
          "output_type": "stream",
          "text": [
            "Enter no.of rows2\n",
            "Enter no.of columns4\n",
            "Enter the rows\n",
            "1 0 1 0 0 1 0 1\n"
          ]
        },
        {
          "output_type": "execute_result",
          "data": {
            "text/plain": [
              "array([[1., 0., 1., 0.],\n",
              "       [0., 1., 0., 1.]])"
            ]
          },
          "metadata": {},
          "execution_count": 26
        }
      ]
    },
    {
      "cell_type": "code",
      "source": [
        "U , S , VT = la.svd(matrix)\n",
        "\n",
        "sigma = np.diag(S)\n",
        "\n",
        "Uk = U[:,:m]\n",
        "\n",
        "Sk = sigma[:m,:m]\n",
        "\n",
        "VTk = VT[:m,:]\n",
        "\n",
        "np.dot(Uk,np.dot(Sk,VTk)) , matrix"
      ],
      "metadata": {
        "colab": {
          "base_uri": "https://localhost:8080/"
        },
        "id": "3ZK9jcCI2Vsq",
        "outputId": "82781d34-5b3c-46f9-9ed6-ff3487318f50"
      },
      "execution_count": 34,
      "outputs": [
        {
          "output_type": "execute_result",
          "data": {
            "text/plain": [
              "(array([[1., 0., 1., 0.],\n",
              "        [0., 1., 0., 1.]]),\n",
              " array([[1., 0., 1., 0.],\n",
              "        [0., 1., 0., 1.]]))"
            ]
          },
          "metadata": {},
          "execution_count": 34
        }
      ]
    }
  ]
}